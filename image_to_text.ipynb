{
 "cells": [
  {
   "attachments": {},
   "cell_type": "markdown",
   "metadata": {},
   "source": [
    "converting image to text using ocr"
   ]
  },
  {
   "cell_type": "code",
   "execution_count": 30,
   "metadata": {},
   "outputs": [],
   "source": [
    "import cv2\n",
    "import pytesseract\n"
   ]
  },
  {
   "cell_type": "code",
   "execution_count": 31,
   "metadata": {},
   "outputs": [],
   "source": [
    "img=cv2.imread('/home/navaneetha/Pictures/deep_learning/OCR/images.jpeg')"
   ]
  },
  {
   "cell_type": "code",
   "execution_count": 32,
   "metadata": {},
   "outputs": [
    {
     "data": {
      "text/plain": [
       "array([[[215, 210, 201],\n",
       "        [215, 210, 201],\n",
       "        [215, 210, 201],\n",
       "        ...,\n",
       "        [231, 224, 215],\n",
       "        [229, 222, 213],\n",
       "        [207, 203, 192]],\n",
       "\n",
       "       [[214, 209, 200],\n",
       "        [214, 209, 200],\n",
       "        [214, 209, 200],\n",
       "        ...,\n",
       "        [231, 224, 215],\n",
       "        [229, 222, 213],\n",
       "        [207, 203, 192]],\n",
       "\n",
       "       [[219, 214, 205],\n",
       "        [219, 214, 205],\n",
       "        [219, 214, 205],\n",
       "        ...,\n",
       "        [231, 224, 215],\n",
       "        [229, 222, 213],\n",
       "        [207, 203, 192]],\n",
       "\n",
       "       ...,\n",
       "\n",
       "       [[201, 199, 189],\n",
       "        [201, 199, 189],\n",
       "        [201, 199, 189],\n",
       "        ...,\n",
       "        [229, 223, 216],\n",
       "        [229, 223, 216],\n",
       "        [228, 222, 215]],\n",
       "\n",
       "       [[203, 201, 191],\n",
       "        [202, 201, 191],\n",
       "        [203, 201, 191],\n",
       "        ...,\n",
       "        [229, 223, 216],\n",
       "        [230, 224, 217],\n",
       "        [228, 222, 215]],\n",
       "\n",
       "       [[198, 197, 187],\n",
       "        [197, 198, 188],\n",
       "        [199, 198, 188],\n",
       "        ...,\n",
       "        [226, 220, 213],\n",
       "        [226, 220, 213],\n",
       "        [227, 221, 214]]], dtype=uint8)"
      ]
     },
     "execution_count": 32,
     "metadata": {},
     "output_type": "execute_result"
    }
   ],
   "source": [
    "img"
   ]
  },
  {
   "cell_type": "code",
   "execution_count": 33,
   "metadata": {},
   "outputs": [],
   "source": [
    "cv2.imshow('image',img)\n",
    "cv2.waitKey()\n",
    "cv2.destroyAllWindows()"
   ]
  },
  {
   "cell_type": "code",
   "execution_count": 34,
   "metadata": {},
   "outputs": [],
   "source": [
    "text=pytesseract.image_to_string(img)\n"
   ]
  },
  {
   "cell_type": "code",
   "execution_count": 35,
   "metadata": {},
   "outputs": [
    {
     "name": "stdout",
     "output_type": "stream",
     "text": [
      "ie doy hn nt wilt naive\n",
      "Bally cock UR\n",
      "“Gian ned Gas”\n",
      "4, “fekt wee iKhih”\n",
      "Hats lam Hla socie Ey\n",
      "Gi oe aly eve hat”\n",
      "HT.\n",
      "\f\n"
     ]
    }
   ],
   "source": [
    "print(text)"
   ]
  },
  {
   "attachments": {},
   "cell_type": "markdown",
   "metadata": {},
   "source": [
    "converting image to data\n"
   ]
  },
  {
   "cell_type": "code",
   "execution_count": 36,
   "metadata": {},
   "outputs": [],
   "source": [
    "from pytesseract import Output"
   ]
  },
  {
   "cell_type": "code",
   "execution_count": 37,
   "metadata": {},
   "outputs": [],
   "source": [
    "img=cv2.imread('/home/navaneetha/Pictures/deep_learning/OCR/2.jpeg')"
   ]
  },
  {
   "cell_type": "code",
   "execution_count": 38,
   "metadata": {},
   "outputs": [],
   "source": [
    "cv2.imshow('image',img)\n",
    "cv2.waitKey()\n",
    "cv2.destroyAllWindows()"
   ]
  },
  {
   "cell_type": "code",
   "execution_count": 39,
   "metadata": {},
   "outputs": [],
   "source": [
    "img_data=pytesseract.image_to_data(img,output_type=Output.DICT)\n"
   ]
  },
  {
   "cell_type": "code",
   "execution_count": 40,
   "metadata": {},
   "outputs": [
    {
     "data": {
      "text/plain": [
       "{'level': [1, 2, 3, 4, 5, 5, 5, 4, 5, 5],\n",
       " 'page_num': [1, 1, 1, 1, 1, 1, 1, 1, 1, 1],\n",
       " 'block_num': [0, 1, 1, 1, 1, 1, 1, 1, 1, 1],\n",
       " 'par_num': [0, 0, 1, 1, 1, 1, 1, 1, 1, 1],\n",
       " 'line_num': [0, 0, 0, 1, 1, 1, 1, 2, 2, 2],\n",
       " 'word_num': [0, 0, 0, 0, 1, 2, 3, 0, 1, 2],\n",
       " 'left': [0, 8, 8, 17, 17, 179, 304, 8, 8, 232],\n",
       " 'top': [0, 8, 8, 8, 11, 8, 8, 70, 70, 70],\n",
       " 'width': [362, 343, 343, 325, 148, 108, 38, 343, 209, 119],\n",
       " 'height': [139, 119, 119, 57, 54, 57, 45, 57, 57, 57],\n",
       " 'conf': [-1, -1, -1, -1, 87, 96, 93, -1, 0, 0],\n",
       " 'text': ['', '', '', '', 'Every', 'path', 'is', '', 'Woleereaele', 'oeiie']}"
      ]
     },
     "execution_count": 40,
     "metadata": {},
     "output_type": "execute_result"
    }
   ],
   "source": [
    "img_data"
   ]
  },
  {
   "cell_type": "code",
   "execution_count": 41,
   "metadata": {},
   "outputs": [
    {
     "name": "stdout",
     "output_type": "stream",
     "text": [
      "dict_keys(['level', 'page_num', 'block_num', 'par_num', 'line_num', 'word_num', 'left', 'top', 'width', 'height', 'conf', 'text'])\n"
     ]
    }
   ],
   "source": [
    "print(img_data.keys())"
   ]
  },
  {
   "cell_type": "code",
   "execution_count": 42,
   "metadata": {},
   "outputs": [
    {
     "data": {
      "text/plain": [
       "['', '', '', '', 'Every', 'path', 'is', '', 'Woleereaele', 'oeiie']"
      ]
     },
     "execution_count": 42,
     "metadata": {},
     "output_type": "execute_result"
    }
   ],
   "source": [
    "img_data['text']"
   ]
  },
  {
   "cell_type": "code",
   "execution_count": 43,
   "metadata": {},
   "outputs": [
    {
     "data": {
      "text/plain": [
       "[0, 8, 8, 17, 17, 179, 304, 8, 8, 232]"
      ]
     },
     "execution_count": 43,
     "metadata": {},
     "output_type": "execute_result"
    }
   ],
   "source": [
    "img_data['left']"
   ]
  },
  {
   "cell_type": "code",
   "execution_count": 44,
   "metadata": {},
   "outputs": [
    {
     "data": {
      "text/plain": [
       "[0, 8, 8, 8, 11, 8, 8, 70, 70, 70]"
      ]
     },
     "execution_count": 44,
     "metadata": {},
     "output_type": "execute_result"
    }
   ],
   "source": [
    "img_data['top']"
   ]
  },
  {
   "cell_type": "code",
   "execution_count": 45,
   "metadata": {},
   "outputs": [
    {
     "data": {
      "text/plain": [
       "[-1, -1, -1, -1, 87, 96, 93, -1, 0, 0]"
      ]
     },
     "execution_count": 45,
     "metadata": {},
     "output_type": "execute_result"
    }
   ],
   "source": [
    "img_data['conf']"
   ]
  },
  {
   "cell_type": "code",
   "execution_count": 46,
   "metadata": {},
   "outputs": [
    {
     "data": {
      "text/plain": [
       "[362, 343, 343, 325, 148, 108, 38, 343, 209, 119]"
      ]
     },
     "execution_count": 46,
     "metadata": {},
     "output_type": "execute_result"
    }
   ],
   "source": [
    "img_data['width']"
   ]
  },
  {
   "cell_type": "code",
   "execution_count": 47,
   "metadata": {},
   "outputs": [
    {
     "data": {
      "text/plain": [
       "10"
      ]
     },
     "execution_count": 47,
     "metadata": {},
     "output_type": "execute_result"
    }
   ],
   "source": [
    "n_boxes=len(img_data['text'])\n",
    "n_boxes"
   ]
  },
  {
   "cell_type": "code",
   "execution_count": 49,
   "metadata": {},
   "outputs": [],
   "source": [
    "img=cv2.imread('/home/navaneetha/Pictures/deep_learning/OCR/2.jpeg')\n",
    "\n",
    "for i in range(n_boxes):\n",
    "    if img_data['conf'][i]>=0:\n",
    "       x,y,w,h=img_data['left'][i],img_data['top'][i],img_data['width'][i],img_data['height'][i]\n",
    "    cv2.rectangle(img,(x,y),(x+w,y+h),(0,255,255),thickness=3)\n",
    "cv2.imshow('img',img)\n",
    "cv2.waitKey()\n",
    "cv2.destroyAllWindows()\n",
    "\n"
   ]
  },
  {
   "cell_type": "code",
   "execution_count": null,
   "metadata": {},
   "outputs": [],
   "source": []
  }
 ],
 "metadata": {
  "kernelspec": {
   "display_name": "Python 3",
   "language": "python",
   "name": "python3"
  },
  "language_info": {
   "codemirror_mode": {
    "name": "ipython",
    "version": 3
   },
   "file_extension": ".py",
   "mimetype": "text/x-python",
   "name": "python",
   "nbconvert_exporter": "python",
   "pygments_lexer": "ipython3",
   "version": "3.8.10"
  },
  "orig_nbformat": 4
 },
 "nbformat": 4,
 "nbformat_minor": 2
}
